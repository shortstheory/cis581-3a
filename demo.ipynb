{
 "cells": [
  {
   "cell_type": "code",
   "execution_count": null,
   "metadata": {},
   "outputs": [
    {
     "evalue": "Error: Cannot execute code, session has been disposed.",
     "output_type": "error"
    }
   ],
   "source": [
    "\n",
    "%load_ext autoreload\n",
    "%autoreload 2\n",
    "%matplotlib inline\n",
    "from matplotlib import pyplot as plt\n",
    "import cv2\n",
    "import numpy as np\n",
    "import utilities\n",
    "from mymosaic import *\n",
    "import sys\n"
   ]
  },
  {
   "cell_type": "code",
   "execution_count": null,
   "metadata": {},
   "outputs": [
    {
     "evalue": "Error: Cannot execute code, session has been disposed.",
     "output_type": "error"
    }
   ],
   "source": [
    "# img1=cv2.imread('images/mountain-left.jpg')\n",
    "# img2=cv2.imread('images/mountain-middle.jpg')\n",
    "# img3=cv2.imread('images/mountain-right.jpg')\n",
    "# img1=cv2.imread('images/firewatch-left.jpg')\n",
    "# img2=cv2.imread('images/firewatch-middle.jpg')\n",
    "# img3=cv2.imread('images/firewatch-right.jpg')\n",
    "# img1=cv2.imread('images/web-left.jpg')\n",
    "# img2=cv2.imread('images/web-middle.jpg')\n",
    "# img3=cv2.imread('images/web-right.jpg')\n",
    "# img1=cv2.imread('images/shoemaker-left.jpg')\n",
    "# img2=cv2.imread('images/shoemaker-middle.jpg')\n",
    "# img3=cv2.imread('images/shoemaker-right.jpg')\n",
    "img1=cv2.imread('skR3.jpg')\n",
    "img2=cv2.imread('skR2.jpg')\n",
    "img3=cv2.imread('skR1.jpg')\n",
    "# img1=cv2.imread('images/gym-left.jpg')\n",
    "# img2=cv2.imread('images/gym-middle.jpg')\n",
    "# img3=cv2.imread('images/gym-right.jpg')\n",
    "\n",
    "HLM = utilities.get_homography(imgL,imgM,True,\"L\")\n",
    "HRM = utilities.get_homography(imgR,imgM,False,\"R\")"
   ]
  },
  {
   "cell_type": "code",
   "execution_count": 9,
   "metadata": {},
   "outputs": [
    {
     "name": "stdout",
     "output_type": "stream",
     "text": [
      "Canvas Size: 3646x1199\n"
     ]
    },
    {
     "data": {
      "text/plain": [
       "True"
      ]
     },
     "execution_count": 9,
     "metadata": {},
     "output_type": "execute_result"
    }
   ],
   "source": [
    "canvas = mymosaic(img1,img2,img3,HLM,HRM)\n",
    "cv2.imwrite(\"output.png\",canvas)\n"
   ]
  },
  {
   "cell_type": "code",
   "execution_count": 20,
   "metadata": {},
   "outputs": [],
   "source": []
  },
  {
   "cell_type": "code",
   "execution_count": null,
   "metadata": {},
   "outputs": [],
   "source": []
  }
 ],
 "metadata": {
  "kernelspec": {
   "display_name": "Python 3",
   "language": "python",
   "name": "python3"
  },
  "language_info": {
   "codemirror_mode": {
    "name": "ipython",
    "version": 3
   },
   "file_extension": ".py",
   "mimetype": "text/x-python",
   "name": "python",
   "nbconvert_exporter": "python",
   "pygments_lexer": "ipython3",
   "version": "3.7.5"
  }
 },
 "nbformat": 4,
 "nbformat_minor": 2
}