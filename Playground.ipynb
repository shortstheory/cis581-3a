{
 "cells": [
  {
   "cell_type": "code",
   "execution_count": null,
   "metadata": {},
   "outputs": [],
   "source": [
    "from IPython.core.display import display, HTML\n",
    "display(HTML(\"<style>.container { width:100% !important; }</style>\"))\n",
    "%load_ext autoreload\n",
    "%autoreload 2\n",
    "%matplotlib inline\n",
    "from matplotlib import pyplot as plt\n",
    "from feat_desc import *\n",
    "import cv2\n",
    "import numpy as np\n",
    "np.set_printoptions(edgeitems=30, linewidth=100000,formatter=dict(float=lambda x: \"%.3g\" % x))\n",
    "from corner_detector import *\n",
    "from anms import *\n",
    "from feat_match import *\n",
    "from ransac_est_homography import *\n",
    "\n",
    "max_anms=3000"
   ]
  },
  {
   "cell_type": "code",
   "execution_count": null,
   "metadata": {},
   "outputs": [],
   "source": [
    "# img1=cv2.imread('small-right.jpg')\n",
    "img1=cv2.imread('small-middle.jpg')\n",
    "# img1=cv2.imread('case1.png')\n",
    "# img1=cv2.imread('rot-middle.jpg')\n",
    "gray = cv2.cvtColor(img1,cv2.COLOR_BGR2GRAY)\n",
    "c = corner_detector(gray)\n",
    "print(np.sum(c>0))\n",
    "X1,Y1,rmax=anms(c, max_anms)\n",
    "d1 = feat_desc(gray,X1,Y1)\n",
    "kp1=[]\n",
    "for (_x,_y) in zip(X1,Y1):\n",
    "    kp1.append(cv2.KeyPoint(_x,_y,40))\n"
   ]
  },
  {
   "cell_type": "code",
   "execution_count": null,
   "metadata": {},
   "outputs": [],
   "source": [
    "# img2=cv2.imread('small-middle.jpg')\n",
    "img2=cv2.imread('small-right.jpg')\n",
    "# img2=cv2.imread('case2.png')\n",
    "gray = cv2.cvtColor(img2,cv2.COLOR_BGR2GRAY)\n",
    "c = corner_detector(gray)\n",
    "print(np.sum(c>0))\n",
    "X2,Y2,rmax=anms(c, max_anms)\n",
    "d2 = feat_desc(gray,X2,Y2)\n",
    "print(\"Rmax\" + str(rmax))\n",
    "kp2=[]\n",
    "for (_x,_y) in zip(X2,Y2):\n",
    "    kp2.append(cv2.KeyPoint(_x,_y,40))\n"
   ]
  },
  {
   "cell_type": "code",
   "execution_count": null,
   "metadata": {},
   "outputs": [],
   "source": [
    "m,dMatch=feat_match(d1, d2)\n",
    "x1=[]\n",
    "y1=[]\n",
    "x2=[]\n",
    "y2=[]\n",
    "\n",
    "for k,idx in enumerate(m):\n",
    "    if (idx != -1):\n",
    "        # is 0 x or 1 x?\n",
    "        x1.append(X1[idx])\n",
    "        y1.append(Y1[idx])\n",
    "        x2.append(X2[k])\n",
    "        y2.append(Y2[k])\n",
    "x1=np.array(x1)\n",
    "x2=np.array(x2)\n",
    "y1=np.array(y1)\n",
    "y2=np.array(y2)\n",
    "# print(X1.shape)"
   ]
  },
  {
   "cell_type": "code",
   "execution_count": null,
   "metadata": {},
   "outputs": [],
   "source": [
    "print(x1.shape)"
   ]
  },
  {
   "cell_type": "code",
   "execution_count": null,
   "metadata": {},
   "outputs": [],
   "source": [
    "print(len(x1))\n",
    "H, inlier_ind=ransac_est_homography(x1,y1,x2,y2,0.5)\n",
    "\n",
    "result = cv2.warpPerspective(img1, H,(int(img1.shape[1]), int(img1.shape[0])))#,flags=cv2.INTER_LINEAR)\n",
    "fig=plt.figure(figsize=(16, 12), dpi= 80, facecolor='w', edgecolor='k')\n",
    "print(H)\n",
    "plt.imshow(cv2.cvtColor(result, cv2.COLOR_BGR2RGB))\n",
    "plt.show()"
   ]
  },
  {
   "cell_type": "code",
   "execution_count": null,
   "metadata": {},
   "outputs": [],
   "source": [
    "mask = np.array(inlier_ind, dtype=bool)\n",
    "\n",
    "mfilter = []\n",
    "for idx,i in enumerate(mask):\n",
    "    if i == True:\n",
    "        mfilter.append(dMatch[idx])\n",
    "img_matches = np.empty((max(img1.shape[0], img2.shape[0]), img1.shape[1]+img2.shape[1], 3), dtype=np.uint8)\n",
    "print(len(mfilter))\n",
    "f=cv2.drawMatches(img1, kp1, img2, kp2, mfilter, img_matches, flags=cv2.DrawMatchesFlags_NOT_DRAW_SINGLE_POINTS)\n",
    "fig=plt.figure(figsize=(20, 18), dpi= 80, facecolor='w', edgecolor='k')\n",
    "plt.imshow(cv2.cvtColor(img_matches, cv2.COLOR_BGR2RGB))\n",
    "plt.show()\n",
    "f=cv2.drawMatches(img1, kp1, img2, kp2, dMatch, img_matches, flags=cv2.DrawMatchesFlags_NOT_DRAW_SINGLE_POINTS)\n",
    "fig=plt.figure(figsize=(20, 18), dpi= 80, facecolor='w', edgecolor='k')\n",
    "plt.imshow(cv2.cvtColor(img_matches, cv2.COLOR_BGR2RGB))\n",
    "plt.show()"
   ]
  },
  {
   "cell_type": "code",
   "execution_count": null,
   "metadata": {},
   "outputs": [],
   "source": []
  },
  {
   "cell_type": "code",
   "execution_count": null,
   "metadata": {},
   "outputs": [],
   "source": []
  },
  {
   "cell_type": "code",
   "execution_count": null,
   "metadata": {},
   "outputs": [],
   "source": [
    "fig=plt.figure(figsize=(16, 12), dpi= 80, facecolor='w', edgecolor='k')\n",
    "plt.imshow(img)\n",
    "plt.scatter(x, y)\n",
    "plt.axis('off')"
   ]
  },
  {
   "cell_type": "code",
   "execution_count": null,
   "metadata": {},
   "outputs": [],
   "source": [
    "d = feat_desc(gray,x,y)"
   ]
  },
  {
   "cell_type": "code",
   "execution_count": null,
   "metadata": {},
   "outputs": [],
   "source": [
    "# x_,y_ = np.meshgrid(np.arange(img1.shape[1]),np.arange(img1.shape[0]))\n",
    "# pts_set = np.vstack(([x_.flatten()],[y_.flatten()],np.ones(len(x_.flatten()))))\n",
    "# print(pts_set)\n",
    "# stk = H@pts_set\n",
    "# inds = np.ravel_multi_index(stk.astype('int'),(img1.shape[1], img1.shape[0]))\n",
    "# flat_img = img1.reshape((img1.shape[0]*img1.shape[1],3))\n",
    "# res_img = flat_img[inds]\n",
    "# res_img = res_img.reshape((im.shape[0],im.shape[1],3))\n",
    "# plt.imshow(cv2.cvtColor(res_img, cv2.COLOR_BGR2RGB))\n"
   ]
  },
  {
   "cell_type": "code",
   "execution_count": null,
   "metadata": {},
   "outputs": [],
   "source": [
    "for i in d:\n",
    "    print(i)"
   ]
  },
  {
   "cell_type": "code",
   "execution_count": null,
   "metadata": {},
   "outputs": [],
   "source": [
    "x = [[4,5,6],[1,2,3]]\n",
    "res=np.linalg.norm(x,axis=1)\n",
    "res.argsort()\n",
    "print(res.argsort())"
   ]
  },
  {
   "cell_type": "code",
   "execution_count": null,
   "metadata": {},
   "outputs": [],
   "source": [
    "x[-1]"
   ]
  },
  {
   "cell_type": "code",
   "execution_count": null,
   "metadata": {},
   "outputs": [],
   "source": [
    "print(H)\n",
    "mask = np.array(inlier_ind, dtype=bool)\n",
    "# print(mask)\n",
    "# print(x1*mask)\n",
    "# print(y1*mask)\n",
    "stack = np.vstack((x1*mask,y1*mask,np.ones((x1.shape))))\n",
    "res = H@stack\n",
    "print(\"-1:\",end=\" \")\n",
    "print(res/res[-1])\n",
    "print(\"reg:\",end=\" \")\n",
    "print(res[0]/res[2])\n",
    "\n",
    "stack = np.vstack((x2*mask,y2*mask,np.ones((x1.shape))))\n",
    "print(stack)"
   ]
  },
  {
   "cell_type": "code",
   "execution_count": null,
   "metadata": {},
   "outputs": [],
   "source": [
    "#img.shape[1],img.shape[0]\n",
    "x,y = np.meshgrid(np.arange(100),np.arange(50))\n",
    "pts_set = np.vstack(([x.flatten()],[y.flatten()],np.ones(len(x.flatten()))))"
   ]
  },
  {
   "cell_type": "code",
   "execution_count": null,
   "metadata": {},
   "outputs": [],
   "source": [
    "x1 = np.array([-1,-1,1,1,0,0,                     90,222,88])\n",
    "y1 = np.array([1,-1,-1,1,0,1,                     12321,33,1])\n",
    "x2 = np.array([0,-2**0.5,0,2**0.5,0,0.5*(2**0.5), 777,3,4])\n",
    "y2 = np.array([2**0.5,0,-2**0.5,0,0,0.5*(2**0.5), 2,9,999])\n"
   ]
  },
  {
   "cell_type": "code",
   "execution_count": null,
   "metadata": {},
   "outputs": [],
   "source": [
    "for i in range(100):\n",
    "    H, inlier_ind=ransac_est_homography(x1,y1,x2,y2,0.5)\n"
   ]
  },
  {
   "cell_type": "code",
   "execution_count": null,
   "metadata": {},
   "outputs": [],
   "source": [
    "print(inlier_ind)\n",
    "print(H)"
   ]
  },
  {
   "cell_type": "code",
   "execution_count": null,
   "metadata": {},
   "outputs": [],
   "source": []
  },
  {
   "cell_type": "code",
   "execution_count": null,
   "metadata": {},
   "outputs": [],
   "source": [
    "# p1 = [(88,1),(-1,1),(1,1),(1,-1)]\n",
    "# p2 = [(4,999),(0,2**0.5),(2**0.5,0),(2**0.5,-2**0.5)]\n",
    "x1 = np.array([-1,-1,1,1,0,0,                     90,222,88])\n",
    "y1 = np.array([1,-1,-1,1,0,1,                     12321,33,1])\n",
    "x2 = np.array([0,-2**0.5,0,2**0.5,0,0.5*(2**0.5), 777,3,4])\n",
    "y2 = np.array([2**0.5,0,-2**0.5,0,0,0.5*(2**0.5), 2,9,999])\n",
    "# [8, 0, 3, 2]\n",
    "pts=[0,5,3,8]\n",
    "p1 = [(x1[pts[0]],y1[pts[0]]),(x1[pts[1]],y1[pts[1]]),(x1[pts[2]],y1[pts[2]]),(x1[pts[3]],y1[pts[3]])]\n",
    "p2 = [(x2[pts[0]],y2[pts[0]]),(x2[pts[1]],y2[pts[1]]),(x2[pts[2]],y2[pts[2]]),(x2[pts[3]],y2[pts[3]])]\n",
    "print(p2)\n",
    "pointsTotal = len(p1)\n",
    "\n",
    "A = np.zeros((8,9))\n",
    "# Homography matrix\n",
    "for i in range(4): # Using the corners\n",
    "        A[i*2,:] = [ p1[i][1], p1[i][0], 1, 0, 0, 0, -p2[i][1]*p1[i][1], -p2[i][1]*p1[i][0], -p2[i][1] ]\n",
    "        A[i*2+1,:] = [0, 0, 0, p1[i][1], p1[i][0], 1, -p2[i][0]*p1[i][1], -p2[i][0]*p1[i][0], -p2[i][0] ]\n",
    "\n",
    "\n",
    "# Alternative (provide worse results)\n",
    "#[V,W] = np.linalg.eig(np.dot(A.T,A))\n",
    "#m = W[:,-1]\n",
    "\n",
    "[U,S,V]=np.linalg.svd(A)\n",
    "m = V[-1,:]/V[-1,-1]\n",
    "print(m)\n",
    "H = np.reshape(m,(3,3))\n",
    "print(H.T)\n",
    "# print(p2[2])\n",
    "pt=3\n",
    "v=H.T@np.append(p1[pt],1)\n",
    "v=v/v[-1]\n",
    "print(v[0:2]-p2[pt])\n",
    "# It should be close to zero\n",
    "print(\"This value should be close to zero: \"+str(np.sum(np.matmul(A,m))))"
   ]
  },
  {
   "cell_type": "code",
   "execution_count": null,
   "metadata": {},
   "outputs": [],
   "source": [
    "o=np.array([2.05e-18 6.52e-19 1.4e-18 1.57e-16 2.57e-16 -1.79e-16 1.55e-18 -1 1])"
   ]
  },
  {
   "cell_type": "code",
   "execution_count": null,
   "metadata": {},
   "outputs": [],
   "source": [
    "print(img1[1203:1203+40,:])"
   ]
  },
  {
   "cell_type": "code",
   "execution_count": null,
   "metadata": {},
   "outputs": [],
   "source": [
    "img = gray\n",
    "padImage = np.zeros((img.shape[0]+40,img.shape[1]+40))\n",
    "padImage[20:img.shape[0]+20,20:img.shape[1]+20] = img\n",
    "# #first 20 rows\n",
    "for i in range(20):\n",
    "    for j in range(20,img.shape[1]+20):\n",
    "        padImage[i,j] = padImage[i+20,j]\n",
    "#first 20 columns\n",
    "for i in range(20,img.shape[0]+20):\n",
    "    for j in range(20):\n",
    "        padImage[i,j] = padImage[i,j+20]\n",
    "# last 20 rows\n",
    "for i in range(img.shape[0]+20,img.shape[0]+40):\n",
    "    for j in range(20,img.shape[1]+20):\n",
    "        padImage[i,j] = padImage[i-20,j]\n",
    "#last 20 cols\n",
    "for i in range(20,img.shape[0]+20):\n",
    "    for j in range(img.shape[1]+20,img.shape[1]+40):\n",
    "        padImage[i,j] = padImage[i,j-20]\n",
    "plt.imshow(padImage)"
   ]
  },
  {
   "cell_type": "code",
   "execution_count": null,
   "metadata": {},
   "outputs": [],
   "source": []
  },
  {
   "cell_type": "code",
   "execution_count": null,
   "metadata": {},
   "outputs": [],
   "source": []
  }
 ],
 "metadata": {
  "kernelspec": {
   "display_name": "Python 3",
   "language": "python",
   "name": "python3"
  },
  "language_info": {
   "codemirror_mode": {
    "name": "ipython",
    "version": 3
   },
   "file_extension": ".py",
   "mimetype": "text/x-python",
   "name": "python",
   "nbconvert_exporter": "python",
   "pygments_lexer": "ipython3",
   "version": "3.6.8"
  }
 },
 "nbformat": 4,
 "nbformat_minor": 2
}
