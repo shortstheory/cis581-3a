{
 "cells": [
  {
   "cell_type": "code",
   "execution_count": 1,
   "metadata": {},
   "outputs": [
    {
     "data": {
      "text/html": [
       "<style>.container { width:100% !important; }</style>"
      ],
      "text/plain": [
       "<IPython.core.display.HTML object>"
      ]
     },
     "metadata": {},
     "output_type": "display_data"
    }
   ],
   "source": [
    "from IPython.core.display import display, HTML\n",
    "display(HTML(\"<style>.container { width:100% !important; }</style>\"))\n",
    "%load_ext autoreload\n",
    "%autoreload 2\n",
    "%matplotlib inline\n",
    "from matplotlib import pyplot as plt\n",
    "from feat_desc import *\n",
    "import cv2\n",
    "import numpy as np\n",
    "np.set_printoptions(edgeitems=30, linewidth=100000,formatter=dict(float=lambda x: \"%.3g\" % x))\n",
    "from corner_detector import *\n",
    "from anms import *\n",
    "from feat_match import *\n",
    "from ransac_est_homography import *"
   ]
  },
  {
   "cell_type": "code",
   "execution_count": 2,
   "metadata": {},
   "outputs": [
    {
     "name": "stdout",
     "output_type": "stream",
     "text": [
      "132258\n"
     ]
    }
   ],
   "source": [
    "img1=cv2.imread('small-right.jpg')\n",
    "# img1=cv2.imread('right.jpg')\n",
    "\n",
    "# img1=cv2.imread('rot-middle.jpg')\n",
    "gray = cv2.cvtColor(img1,cv2.COLOR_BGR2GRAY)\n",
    "c = corner_detector(gray)\n",
    "x,y,rmax=anms(c, 3000)\n",
    "\n",
    "d1 = feat_desc(gray,x,y)\n",
    "kp1=[]\n",
    "for (_x,_y) in zip(x,y):\n",
    "    kp1.append(cv2.KeyPoint(_x,_y,40))\n"
   ]
  },
  {
   "cell_type": "code",
   "execution_count": null,
   "metadata": {},
   "outputs": [
    {
     "name": "stdout",
     "output_type": "stream",
     "text": [
      "177412\n"
     ]
    }
   ],
   "source": [
    "img2=cv2.imread('small-middle.jpg')\n",
    "# img2=cv2.imread('middle.jpg')\n",
    "\n",
    "gray = cv2.cvtColor(img2,cv2.COLOR_BGR2GRAY)\n",
    "c = corner_detector(gray)\n",
    "x,y,rmax=anms(c, 3000)\n",
    "d2 = feat_desc(gray,x,y)\n",
    "kp2=[]\n",
    "for (_x,_y) in zip(x,y):\n",
    "    kp2.append(cv2.KeyPoint(_x,_y,40))\n"
   ]
  },
  {
   "cell_type": "code",
   "execution_count": null,
   "metadata": {},
   "outputs": [],
   "source": [
    "m,dMatch=feat_match(d1, d2)\n",
    "x1=[]\n",
    "y1=[]\n",
    "x2=[]\n",
    "y2=[]\n",
    "for k,idx in enumerate(m):\n",
    "    if (idx != -1):\n",
    "        # is 0 x or 1 x?\n",
    "        x1.append(kp1[idx].pt[0])\n",
    "        y1.append(kp1[idx].pt[1])\n",
    "        x2.append(kp2[k].pt[0])\n",
    "        y2.append(kp2[k].pt[1])\n",
    "# print(x1)\n",
    "# print(x2)\n",
    "# print(len(dMatch))\n",
    "print(len(x1))\n",
    "x1=np.array(x1)\n",
    "x2=np.array(x2)\n",
    "y1=np.array(y1)\n",
    "y2=np.array(y2)"
   ]
  },
  {
   "cell_type": "code",
   "execution_count": null,
   "metadata": {},
   "outputs": [],
   "source": [
    "H, inlier_ind=ransac_est_homography(x1,y1,x2,y2,0.5)"
   ]
  },
  {
   "cell_type": "code",
   "execution_count": null,
   "metadata": {},
   "outputs": [],
   "source": [
    "print(H)\n",
    "mask = np.array(inlier_ind, dtype=bool)\n",
    "print(mask)\n",
    "print(x1*mask)\n",
    "print(y1*mask)\n",
    "stack = np.vstack((x1*mask,y1*mask,np.ones((x1.shape))))\n",
    "res = H@stack\n",
    "print(res[0]/res[2])\n",
    "print(res[1]/res[2])\n",
    "\n",
    "stack = np.vstack((x2*mask,y2*mask,np.ones((x1.shape))))\n",
    "print(stack)"
   ]
  },
  {
   "cell_type": "code",
   "execution_count": null,
   "metadata": {},
   "outputs": [],
   "source": [
    "result = cv2.warpPerspective(img1, H,(img1.shape[1], img1.shape[0]))#,flags=cv2.INTER_LINEAR)\n",
    "fig=plt.figure(figsize=(16, 12), dpi= 80, facecolor='w', edgecolor='k')\n",
    "\n",
    "plt.imshow(cv2.cvtColor(result, cv2.COLOR_BGR2RGB))\n",
    "plt.show()"
   ]
  },
  {
   "cell_type": "code",
   "execution_count": null,
   "metadata": {},
   "outputs": [],
   "source": [
    "mfilter = []\n",
    "for idx,i in enumerate(mask):\n",
    "    if i == True:\n",
    "        mfilter.append(dMatch[idx])"
   ]
  },
  {
   "cell_type": "code",
   "execution_count": null,
   "metadata": {},
   "outputs": [],
   "source": [
    "img_matches = np.empty((max(img1.shape[0], img2.shape[0]), img1.shape[1]+img2.shape[1], 3), dtype=np.uint8)\n",
    "cv2.drawMatches(img1, kp1, img2, kp2, mfilter, img_matches, flags=cv2.DrawMatchesFlags_NOT_DRAW_SINGLE_POINTS)\n",
    "# cv2.drawMatches(img1, kp1, img2, kp2, dMatch, img_matches, flags=cv2.DrawMatchesFlags_NOT_DRAW_SINGLE_POINTS)"
   ]
  },
  {
   "cell_type": "code",
   "execution_count": null,
   "metadata": {},
   "outputs": [],
   "source": [
    "fig=plt.figure(figsize=(20, 18), dpi= 80, facecolor='w', edgecolor='k')\n",
    "plt.imshow(cv2.cvtColor(img_matches, cv2.COLOR_BGR2RGB))\n",
    "plt.show()"
   ]
  },
  {
   "cell_type": "code",
   "execution_count": null,
   "metadata": {},
   "outputs": [],
   "source": [
    "fig=plt.figure(figsize=(16, 12), dpi= 80, facecolor='w', edgecolor='k')\n",
    "plt.imshow(img)\n",
    "plt.scatter(x, y)\n",
    "plt.axis('off')"
   ]
  },
  {
   "cell_type": "code",
   "execution_count": null,
   "metadata": {},
   "outputs": [],
   "source": [
    "d = feat_desc(gray,x,y)"
   ]
  },
  {
   "cell_type": "code",
   "execution_count": null,
   "metadata": {},
   "outputs": [],
   "source": [
    "for i in d:\n",
    "    print(i)"
   ]
  },
  {
   "cell_type": "code",
   "execution_count": null,
   "metadata": {},
   "outputs": [],
   "source": [
    "x = [[4,5,6],[1,2,3]]\n",
    "res=np.linalg.norm(x,axis=1)\n",
    "res.argsort()\n",
    "print(res.argsort())"
   ]
  },
  {
   "cell_type": "code",
   "execution_count": null,
   "metadata": {},
   "outputs": [],
   "source": []
  }
 ],
 "metadata": {
  "kernelspec": {
   "display_name": "Python 3",
   "language": "python",
   "name": "python3"
  },
  "language_info": {
   "codemirror_mode": {
    "name": "ipython",
    "version": 3
   },
   "file_extension": ".py",
   "mimetype": "text/x-python",
   "name": "python",
   "nbconvert_exporter": "python",
   "pygments_lexer": "ipython3",
   "version": "3.6.8"
  }
 },
 "nbformat": 4,
 "nbformat_minor": 2
}
