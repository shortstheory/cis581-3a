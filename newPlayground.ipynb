{
 "cells": [
  {
   "cell_type": "code",
   "execution_count": 86,
   "metadata": {},
   "outputs": [
    {
     "name": "stdout",
     "output_type": "stream",
     "text": "The autoreload extension is already loaded. To reload it, use:\n  %reload_ext autoreload\n"
    }
   ],
   "source": [
    "\n",
    "%load_ext autoreload\n",
    "%autoreload 2\n",
    "%matplotlib inline\n",
    "from matplotlib import pyplot as plt\n",
    "import cv2\n",
    "import numpy as np\n",
    "from get_homography import *\n",
    "from stitch_neo import *\n",
    "import sys\n"
   ]
  },
  {
   "cell_type": "code",
   "execution_count": 87,
   "metadata": {},
   "outputs": [
    {
     "name": "stdout",
     "output_type": "stream",
     "text": "(174,)\n(139,)\nMaxInlierCount139\nFinal H[[ 1.97982941e+00 -6.36638973e-02 -9.42609751e+02]\n [ 3.38245945e-01  1.64389037e+00 -2.82325343e+02]\n [ 7.57455172e-04  1.82811600e-06  1.00000000e+00]]\n(88,)\n(59,)\nMaxInlierCount59\nFinal H[[ 2.03345444e+00 -4.50368086e-02 -1.06656586e+03]\n [ 3.48122326e-01  1.68992158e+00 -2.99203428e+02]\n [ 8.17515311e-04 -2.58374918e-05  1.00000000e+00]]\n"
    }
   ],
   "source": [
    "# img1=cv2.imread('images/mountain-left.jpg')\n",
    "# img2=cv2.imread('images/mountain-middle.jpg')\n",
    "# img3=cv2.imread('images/mountain-right.jpg')\n",
    "# img1=cv2.imread('images/firewatch-left.jpg')\n",
    "# img2=cv2.imread('images/firewatch-middle.jpg')\n",
    "# img3=cv2.imread('images/firewatch-right.jpg')\n",
    "# img1=cv2.imread('images/small-left.jpg')\n",
    "# img2=cv2.imread('images/small-middle.jpg')\n",
    "# img3=cv2.imread('images/small-right.jpg')\n",
    "# img1=cv2.imread('images/web-left.jpg')\n",
    "# img2=cv2.imread('images/web-middle.jpg')\n",
    "# img3=cv2.imread('images/web-right.jpg')\n",
    "# img1=cv2.imread('images/josh_image_left.jpg')\n",
    "# img2=cv2.imread('images/josh_image_middle.jpg')\n",
    "# img3=cv2.imread('images/josh_image_right.jpg')\n",
    "img1=cv2.imread('images/left.jpg')\n",
    "img2=cv2.imread('images/middle.jpg')\n",
    "img3=cv2.imread('images/right.jpg')\n",
    "\n",
    "HLM = get_homography(img1,img2)\n",
    "HMR = get_homography(img2,img3)"
   ]
  },
  {
   "cell_type": "code",
   "execution_count": 88,
   "metadata": {},
   "outputs": [
    {
     "name": "stdout",
     "output_type": "stream",
     "text": "(720, 809)\n(720, 753)\n"
    },
    {
     "data": {
      "text/plain": "True"
     },
     "execution_count": 88,
     "metadata": {},
     "output_type": "execute_result"
    }
   ],
   "source": [
    "canvas = stitch_neo(img1,img2,img3,HLM,HMR)\n",
    "cv2.imwrite(\"output.png\",canvas)\n"
   ]
  },
  {
   "cell_type": "code",
   "execution_count": 0,
   "metadata": {},
   "outputs": [],
   "source": []
  },
  {
   "cell_type": "code",
   "execution_count": null,
   "metadata": {},
   "outputs": [],
   "source": []
  }
 ],
 "metadata": {
  "kernelspec": {
   "display_name": "Python 3",
   "language": "python",
   "name": "python3"
  },
  "language_info": {
   "codemirror_mode": {
    "name": "ipython",
    "version": 3
   },
   "file_extension": ".py",
   "mimetype": "text/x-python",
   "name": "python",
   "nbconvert_exporter": "python",
   "pygments_lexer": "ipython3",
   "version": "3.6.8"
  }
 },
 "nbformat": 4,
 "nbformat_minor": 2
}