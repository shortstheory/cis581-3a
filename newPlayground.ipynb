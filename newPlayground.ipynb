{
 "cells": [
  {
   "cell_type": "code",
   "execution_count": 75,
   "metadata": {},
   "outputs": [
    {
     "name": "stdout",
     "output_type": "stream",
     "text": "The autoreload extension is already loaded. To reload it, use:\n  %reload_ext autoreload\n"
    }
   ],
   "source": [
    "\n",
    "%load_ext autoreload\n",
    "%autoreload 2\n",
    "%matplotlib inline\n",
    "from matplotlib import pyplot as plt\n",
    "import cv2\n",
    "import numpy as np\n",
    "from get_homography import *\n",
    "from stitch_neo import *\n",
    "import sys\n"
   ]
  },
  {
   "cell_type": "code",
   "execution_count": 76,
   "metadata": {},
   "outputs": [
    {
     "name": "stdout",
     "output_type": "stream",
     "text": "2399\n10360\nRmax2.8284271247461903\n(420,)\n(414,)\nMaxInlierCount414\nFinal H[[ 1.07669893e+00 -9.28041352e-03 -2.10951011e+02]\n [ 5.85045246e-02  1.06038500e+00 -2.47687509e+01]\n [ 1.61237745e-04  1.69259132e-05  1.00000000e+00]]\n10360\n5184\nRmax1.0\n(258,)\n(249,)\nMaxInlierCount249\nFinal H[[ 1.08028767e+00  4.21688302e-03 -2.36015616e+02]\n [ 4.76159673e-02  1.06287011e+00 -1.59246591e+01]\n [ 1.74952514e-04  1.14714540e-05  1.00000000e+00]]\n"
    }
   ],
   "source": [
    "# img1=cv2.imread('images/mountain-left.jpg')\n",
    "# img2=cv2.imread('images/mountain-middle.jpg')\n",
    "# img3=cv2.imread('images/mountain-right.jpg')\n",
    "# img1=cv2.imread('images/firewatch-left.jpg')\n",
    "# img2=cv2.imread('images/firewatch-middle.jpg')\n",
    "# img3=cv2.imread('images/firewatch-right.jpg')\n",
    "# img1=cv2.imread('images/small-left.jpg')\n",
    "# img2=cv2.imread('images/small-middle.jpg')\n",
    "# img3=cv2.imread('images/small-right.jpg')\n",
    "# img1=cv2.imread('images/web-left.jpg')\n",
    "# img2=cv2.imread('images/web-middle.jpg')\n",
    "# img3=cv2.imread('images/web-right.jpg')\n",
    "img1=cv2.imread('images/josh_image_left.jpg')\n",
    "img2=cv2.imread('images/josh_image_middle.jpg')\n",
    "img3=cv2.imread('images/josh_image_right.jpg')\n",
    "\n",
    "HLM = get_homography(img1,img2)\n",
    "HMR = get_homography(img2,img3)"
   ]
  },
  {
   "cell_type": "code",
   "execution_count": 85,
   "metadata": {},
   "outputs": [
    {
     "name": "stdout",
     "output_type": "stream",
     "text": "(599, 256)\n(600, 233)\n"
    },
    {
     "data": {
      "text/plain": "True"
     },
     "execution_count": 85,
     "metadata": {},
     "output_type": "execute_result"
    }
   ],
   "source": [
    "canvas = stitch_neo(img1,img2,img3,HLM,HMR)\n",
    "cv2.imwrite(\"output.png\",canvas)\n"
   ]
  },
  {
   "cell_type": "code",
   "execution_count": 0,
   "metadata": {},
   "outputs": [],
   "source": []
  },
  {
   "cell_type": "code",
   "execution_count": null,
   "metadata": {},
   "outputs": [],
   "source": []
  }
 ],
 "metadata": {
  "kernelspec": {
   "display_name": "Python 3",
   "language": "python",
   "name": "python3"
  },
  "language_info": {
   "codemirror_mode": {
    "name": "ipython",
    "version": 3
   },
   "file_extension": ".py",
   "mimetype": "text/x-python",
   "name": "python",
   "nbconvert_exporter": "python",
   "pygments_lexer": "ipython3",
   "version": "3.6.8"
  }
 },
 "nbformat": 4,
 "nbformat_minor": 2
}