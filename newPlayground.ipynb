{
 "cells": [
  {
   "cell_type": "code",
   "execution_count": 92,
   "metadata": {},
   "outputs": [
    {
     "name": "stdout",
     "output_type": "stream",
     "text": [
      "The autoreload extension is already loaded. To reload it, use:\n",
      "  %reload_ext autoreload\n"
     ]
    }
   ],
   "source": [
    "\n",
    "%load_ext autoreload\n",
    "%autoreload 2\n",
    "%matplotlib inline\n",
    "from matplotlib import pyplot as plt\n",
    "import cv2\n",
    "import numpy as np\n",
    "from get_homography import *\n",
    "from stitch_neo import *\n",
    "import sys\n"
   ]
  },
  {
   "cell_type": "code",
   "execution_count": 93,
   "metadata": {},
   "outputs": [
    {
     "name": "stdout",
     "output_type": "stream",
     "text": [
      "(234,)\n",
      "(181,)\n",
      "MaxInlierCount181\n",
      "Final H[[ 1.79338574e+00 -4.74117647e-02 -6.31658148e+02]\n",
      " [ 3.55514221e-01  1.56321149e+00 -2.52295940e+02]\n",
      " [ 7.81512924e-04  7.73161793e-05  1.00000000e+00]]\n",
      "(144,)\n",
      "(103,)\n",
      "MaxInlierCount103\n",
      "Final H[[ 2.16988247e+00 -9.24235672e-02 -9.30996576e+02]\n",
      " [ 5.26435475e-01  1.86638940e+00 -3.97593640e+02]\n",
      " [ 1.20926635e-03  5.13633107e-05  1.00000000e+00]]\n"
     ]
    }
   ],
   "source": [
    "# img1=cv2.imread('images/mountain-left.jpg')\n",
    "# img2=cv2.imread('images/mountain-middle.jpg')\n",
    "# img3=cv2.imread('images/mountain-right.jpg')\n",
    "# img1=cv2.imread('images/firewatch-left.jpg')\n",
    "# img2=cv2.imread('images/firewatch-middle.jpg')\n",
    "# img3=cv2.imread('images/firewatch-right.jpg')\n",
    "# img1=cv2.imread('images/small-left.jpg')\n",
    "# img2=cv2.imread('images/small-middle.jpg')\n",
    "# img3=cv2.imread('images/small-right.jpg')\n",
    "# img1=cv2.imread('images/web-left.jpg')\n",
    "# img2=cv2.imread('images/web-middle.jpg')\n",
    "# img3=cv2.imread('images/web-right.jpg')\n",
    "# img1=cv2.imread('images/josh_image_left.jpg')\n",
    "# img2=cv2.imread('images/josh_image_middle.jpg')\n",
    "# img3=cv2.imread('images/josh_image_right.jpg')\n",
    "img1=cv2.imread('images/left.jpg')\n",
    "img2=cv2.imread('images/middle.jpg')\n",
    "img3=cv2.imread('images/right.jpg')\n",
    "\n",
    "HLM = get_homography(img1,img2)\n",
    "HMR = get_homography(img2,img3)"
   ]
  },
  {
   "cell_type": "code",
   "execution_count": 94,
   "metadata": {},
   "outputs": [
    {
     "name": "stdout",
     "output_type": "stream",
     "text": [
      "(720, 624)\n",
      "(720, 527)\n"
     ]
    },
    {
     "data": {
      "text/plain": [
       "True"
      ]
     },
     "execution_count": 94,
     "metadata": {},
     "output_type": "execute_result"
    }
   ],
   "source": [
    "canvas = stitch_neo(img1,img2,img3,HLM,HMR)\n",
    "cv2.imwrite(\"output.png\",canvas)\n"
   ]
  },
  {
   "cell_type": "code",
   "execution_count": 0,
   "metadata": {},
   "outputs": [],
   "source": []
  },
  {
   "cell_type": "code",
   "execution_count": null,
   "metadata": {},
   "outputs": [],
   "source": []
  }
 ],
 "metadata": {
  "kernelspec": {
   "display_name": "Python 3",
   "language": "python",
   "name": "python3"
  },
  "language_info": {
   "codemirror_mode": {
    "name": "ipython",
    "version": 3
   },
   "file_extension": ".py",
   "mimetype": "text/x-python",
   "name": "python",
   "nbconvert_exporter": "python",
   "pygments_lexer": "ipython3",
   "version": "3.6.8"
  }
 },
 "nbformat": 4,
 "nbformat_minor": 2
}
