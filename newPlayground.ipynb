{
 "cells": [
  {
   "cell_type": "code",
   "execution_count": 107,
   "metadata": {},
   "outputs": [
    {
     "name": "stdout",
     "output_type": "stream",
     "text": "The autoreload extension is already loaded. To reload it, use:\n  %reload_ext autoreload\n"
    }
   ],
   "source": [
    "\n",
    "%load_ext autoreload\n",
    "%autoreload 2\n",
    "%matplotlib inline\n",
    "from matplotlib import pyplot as plt\n",
    "import cv2\n",
    "import numpy as np\n",
    "from get_homography import *\n",
    "from mymosaic import *\n",
    "import sys\n"
   ]
  },
  {
   "cell_type": "code",
   "execution_count": 108,
   "metadata": {},
   "outputs": [
    {
     "name": "stdout",
     "output_type": "stream",
     "text": "(234,)\n(183,)\nMaxInlierCount183\nFinal H[[ 1.80238217e+00 -5.54647942e-02 -6.33276688e+02]\n [ 3.63262427e-01  1.55236346e+00 -2.52098318e+02]\n [ 8.01016697e-04  5.24320005e-05  1.00000000e+00]]\n(138,)\n(102,)\nMaxInlierCount102\nFinal H[[ 2.19084227e+00 -9.10740000e-02 -9.42150165e+02]\n [ 5.31636100e-01  1.87521523e+00 -3.99838879e+02]\n [ 1.22542753e-03  5.52399907e-05  1.00000000e+00]]\n"
    }
   ],
   "source": [
    "# img1=cv2.imread('images/mountain-left.jpg')\n",
    "# img2=cv2.imread('images/mountain-middle.jpg')\n",
    "# img3=cv2.imread('images/mountain-right.jpg')\n",
    "# img1=cv2.imread('images/firewatch-left.jpg')\n",
    "# img2=cv2.imread('images/firewatch-middle.jpg')\n",
    "# img3=cv2.imread('images/firewatch-right.jpg')\n",
    "# img1=cv2.imread('images/web-left.jpg')\n",
    "# img2=cv2.imread('images/web-middle.jpg')\n",
    "# img3=cv2.imread('images/web-right.jpg')\n",
    "# img1=cv2.imread('images/josh_image_left.jpg')\n",
    "# img2=cv2.imread('images/josh_image_middle.jpg')\n",
    "# img3=cv2.imread('images/josh_image_right.jpg')\n",
    "img1=cv2.imread('images/shoemaker-left.jpg')\n",
    "img2=cv2.imread('images/shoemaker-middle.jpg')\n",
    "img3=cv2.imread('images/shoemaker-right.jpg')\n",
    "# img1=cv2.imread('images/gym-left.jpg')\n",
    "# img2=cv2.imread('images/gym-middle.jpg')\n",
    "# img3=cv2.imread('images/gym-right.jpg')\n",
    "\n",
    "HLM = get_homography(img1,img2)\n",
    "HMR = get_homography(img2,img3)"
   ]
  },
  {
   "cell_type": "code",
   "execution_count": 109,
   "metadata": {},
   "outputs": [],
   "source": [
    "canvas = mymosaic(img1,img2,img3,HLM,HMR)\n",
    "cv2.imwrite(\"output.png\",canvas)\n"
   ]
  },
  {
   "cell_type": "code",
   "execution_count": 0,
   "metadata": {},
   "outputs": [],
   "source": []
  },
  {
   "cell_type": "code",
   "execution_count": null,
   "metadata": {},
   "outputs": [],
   "source": []
  }
 ],
 "metadata": {
  "kernelspec": {
   "display_name": "Python 3",
   "language": "python",
   "name": "python3"
  },
  "language_info": {
   "codemirror_mode": {
    "name": "ipython",
    "version": 3
   },
   "file_extension": ".py",
   "mimetype": "text/x-python",
   "name": "python",
   "nbconvert_exporter": "python",
   "pygments_lexer": "ipython3",
   "version": "3.6.8"
  }
 },
 "nbformat": 4,
 "nbformat_minor": 2
}